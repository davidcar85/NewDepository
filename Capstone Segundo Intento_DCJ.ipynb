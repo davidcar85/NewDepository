{
    "cells": [
        {
            "metadata": {},
            "cell_type": "code",
            "source": "import pandas as pd # library for data analsysis\npd.set_option('display.max_columns', None)\npd.set_option('display.max_rows', None)\n\nimport json # library to handle JSON files\n\n!conda install -c conda-forge geopy --yes # uncomment this line if you haven't completed the Foursquare API lab\nfrom geopy.geocoders import Nominatim # convert an address into latitude and longitude values\n\nimport requests # library to handle requests\nfrom pandas.io.json import json_normalize # tranform JSON file into a pandas dataframe\n\n# import k-means from clustering stage\nfrom sklearn.cluster import KMeans\n\n#!conda install -c conda-forge folium=0.5.0 --yes # uncomment this line if you haven't completed the Foursquare API lab\nimport folium # map rendering library\n\nfrom bs4 import BeautifulSoup\nimport csv\n\n!pip install geocoder\nimport geocoder # to get longitude and latitude\n\n!conda install -c conda-forge folium=0.5.0 --yes\nimport folium # Map plotting library\nimport numpy as np\nfrom pandas.io.json import json_normalize # Tranform JSON file into a pandas dataframe\n\n# Matplotlib and associated plotting modules\nimport matplotlib.cm as cm\nimport matplotlib.colors as colors\n\n# Import k-means from clustering stage\nfrom sklearn.cluster import KMeans\n\nprint('Libraries imported.')",
            "execution_count": 1,
            "outputs": [
                {
                    "output_type": "stream",
                    "text": "Collecting package metadata (current_repodata.json): done\nSolving environment: done\n\n# All requested packages already installed.\n\n",
                    "name": "stdout"
                },
                {
                    "output_type": "error",
                    "ename": "ModuleNotFoundError",
                    "evalue": "No module named 'folium'",
                    "traceback": [
                        "\u001b[0;31m---------------------------------------------------------------------------\u001b[0m",
                        "\u001b[0;31mModuleNotFoundError\u001b[0m                       Traceback (most recent call last)",
                        "\u001b[0;32m<ipython-input-1-8e5c386093e9>\u001b[0m in \u001b[0;36m<module>\u001b[0;34m\u001b[0m\n\u001b[1;32m     15\u001b[0m \u001b[0;34m\u001b[0m\u001b[0m\n\u001b[1;32m     16\u001b[0m \u001b[0;31m#!conda install -c conda-forge folium=0.5.0 --yes # uncomment this line if you haven't completed the Foursquare API lab\u001b[0m\u001b[0;34m\u001b[0m\u001b[0;34m\u001b[0m\u001b[0;34m\u001b[0m\u001b[0m\n\u001b[0;32m---> 17\u001b[0;31m \u001b[0;32mimport\u001b[0m \u001b[0mfolium\u001b[0m \u001b[0;31m# map rendering library\u001b[0m\u001b[0;34m\u001b[0m\u001b[0;34m\u001b[0m\u001b[0m\n\u001b[0m\u001b[1;32m     18\u001b[0m \u001b[0;34m\u001b[0m\u001b[0m\n\u001b[1;32m     19\u001b[0m \u001b[0;32mfrom\u001b[0m \u001b[0mbs4\u001b[0m \u001b[0;32mimport\u001b[0m \u001b[0mBeautifulSoup\u001b[0m\u001b[0;34m\u001b[0m\u001b[0;34m\u001b[0m\u001b[0m\n",
                        "\u001b[0;31mModuleNotFoundError\u001b[0m: No module named 'folium'"
                    ]
                }
            ]
        },
        {
            "metadata": {},
            "cell_type": "code",
            "source": "python3 -m pip install folium",
            "execution_count": 2,
            "outputs": [
                {
                    "output_type": "error",
                    "ename": "SyntaxError",
                    "evalue": "invalid syntax (<ipython-input-2-d05c9e64e4c2>, line 1)",
                    "traceback": [
                        "\u001b[0;36m  File \u001b[0;32m\"<ipython-input-2-d05c9e64e4c2>\"\u001b[0;36m, line \u001b[0;32m1\u001b[0m\n\u001b[0;31m    python3 -m pip install folium\u001b[0m\n\u001b[0m                 ^\u001b[0m\n\u001b[0;31mSyntaxError\u001b[0m\u001b[0;31m:\u001b[0m invalid syntax\n"
                    ]
                }
            ]
        },
        {
            "metadata": {},
            "cell_type": "code",
            "source": "!pip install folium",
            "execution_count": 3,
            "outputs": [
                {
                    "output_type": "stream",
                    "text": "Collecting folium\n  Downloading folium-0.12.1-py2.py3-none-any.whl (94 kB)\n\u001b[K     |\u2588\u2588\u2588\u2588\u2588\u2588\u2588\u2588\u2588\u2588\u2588\u2588\u2588\u2588\u2588\u2588\u2588\u2588\u2588\u2588\u2588\u2588\u2588\u2588\u2588\u2588\u2588\u2588\u2588\u2588\u2588\u2588| 94 kB 6.8 MB/s  eta 0:00:01\n\u001b[?25hRequirement already satisfied: jinja2>=2.9 in /opt/conda/envs/Python-3.7-main/lib/python3.7/site-packages (from folium) (2.11.3)\nRequirement already satisfied: numpy in /opt/conda/envs/Python-3.7-main/lib/python3.7/site-packages (from folium) (1.20.1)\nRequirement already satisfied: requests in /opt/conda/envs/Python-3.7-main/lib/python3.7/site-packages (from folium) (2.25.1)\nCollecting branca>=0.3.0\n  Downloading branca-0.4.2-py3-none-any.whl (24 kB)\nRequirement already satisfied: MarkupSafe>=0.23 in /opt/conda/envs/Python-3.7-main/lib/python3.7/site-packages (from jinja2>=2.9->folium) (1.1.1)\nRequirement already satisfied: urllib3<1.27,>=1.21.1 in /opt/conda/envs/Python-3.7-main/lib/python3.7/site-packages (from requests->folium) (1.26.3)\nRequirement already satisfied: idna<3,>=2.5 in /opt/conda/envs/Python-3.7-main/lib/python3.7/site-packages (from requests->folium) (2.10)\nRequirement already satisfied: certifi>=2017.4.17 in /opt/conda/envs/Python-3.7-main/lib/python3.7/site-packages (from requests->folium) (2020.12.5)\nRequirement already satisfied: chardet<5,>=3.0.2 in /opt/conda/envs/Python-3.7-main/lib/python3.7/site-packages (from requests->folium) (3.0.4)\nInstalling collected packages: branca, folium\nSuccessfully installed branca-0.4.2 folium-0.12.1\n",
                    "name": "stdout"
                }
            ]
        },
        {
            "metadata": {},
            "cell_type": "code",
            "source": "import pandas as pd # library for data analsysis\npd.set_option('display.max_columns', None)\npd.set_option('display.max_rows', None)\n\nimport json # library to handle JSON files\n\n!conda install -c conda-forge geopy --yes # uncomment this line if you haven't completed the Foursquare API lab\nfrom geopy.geocoders import Nominatim # convert an address into latitude and longitude values\n\nimport requests # library to handle requests\nfrom pandas.io.json import json_normalize # tranform JSON file into a pandas dataframe\n\n# import k-means from clustering stage\nfrom sklearn.cluster import KMeans\n\n#!conda install -c conda-forge folium=0.5.0 --yes # uncomment this line if you haven't completed the Foursquare API lab\nimport folium # map rendering library\n\nfrom bs4 import BeautifulSoup\nimport csv\n\n!pip install geocoder\nimport geocoder # to get longitude and latitude\n\n!conda install -c conda-forge folium=0.5.0 --yes\nimport folium # Map plotting library\nimport numpy as np\nfrom pandas.io.json import json_normalize # Tranform JSON file into a pandas dataframe\n\n# Matplotlib and associated plotting modules\nimport matplotlib.cm as cm\nimport matplotlib.colors as colors\n\n# Import k-means from clustering stage\nfrom sklearn.cluster import KMeans\n\nprint('Libraries imported.')",
            "execution_count": 4,
            "outputs": [
                {
                    "output_type": "stream",
                    "text": "Collecting package metadata (current_repodata.json): done\nSolving environment: done\n\n# All requested packages already installed.\n\nCollecting geocoder\n  Downloading geocoder-1.38.1-py2.py3-none-any.whl (98 kB)\n\u001b[K     |\u2588\u2588\u2588\u2588\u2588\u2588\u2588\u2588\u2588\u2588\u2588\u2588\u2588\u2588\u2588\u2588\u2588\u2588\u2588\u2588\u2588\u2588\u2588\u2588\u2588\u2588\u2588\u2588\u2588\u2588\u2588\u2588| 98 kB 12.0 MB/s eta 0:00:01\n\u001b[?25hRequirement already satisfied: requests in /opt/conda/envs/Python-3.7-main/lib/python3.7/site-packages (from geocoder) (2.25.1)\nRequirement already satisfied: future in /opt/conda/envs/Python-3.7-main/lib/python3.7/site-packages (from geocoder) (0.18.2)\nCollecting ratelim\n  Downloading ratelim-0.1.6-py2.py3-none-any.whl (4.0 kB)\nRequirement already satisfied: six in /opt/conda/envs/Python-3.7-main/lib/python3.7/site-packages (from geocoder) (1.15.0)\nRequirement already satisfied: click in /opt/conda/envs/Python-3.7-main/lib/python3.7/site-packages (from geocoder) (7.1.2)\nRequirement already satisfied: decorator in /opt/conda/envs/Python-3.7-main/lib/python3.7/site-packages (from ratelim->geocoder) (4.4.2)\nRequirement already satisfied: chardet<5,>=3.0.2 in /opt/conda/envs/Python-3.7-main/lib/python3.7/site-packages (from requests->geocoder) (3.0.4)\nRequirement already satisfied: certifi>=2017.4.17 in /opt/conda/envs/Python-3.7-main/lib/python3.7/site-packages (from requests->geocoder) (2020.12.5)\nRequirement already satisfied: idna<3,>=2.5 in /opt/conda/envs/Python-3.7-main/lib/python3.7/site-packages (from requests->geocoder) (2.10)\nRequirement already satisfied: urllib3<1.27,>=1.21.1 in /opt/conda/envs/Python-3.7-main/lib/python3.7/site-packages (from requests->geocoder) (1.26.3)\nInstalling collected packages: ratelim, geocoder\nSuccessfully installed geocoder-1.38.1 ratelim-0.1.6\nCollecting package metadata (current_repodata.json): done\nSolving environment: failed with initial frozen solve. Retrying with flexible solve.\nCollecting package metadata (repodata.json): done\nSolving environment: done\n\n## Package Plan ##\n\n  environment location: /opt/conda/envs/Python-3.7-main\n\n  added / updated specs:\n    - folium=0.5.0\n\n\nThe following packages will be downloaded:\n\n    package                    |            build\n    ---------------------------|-----------------\n    altair-4.1.0               |             py_1         614 KB  conda-forge\n    branca-0.4.2               |     pyhd8ed1ab_0          26 KB  conda-forge\n    folium-0.5.0               |             py_0          45 KB  conda-forge\n    vincent-0.4.4              |             py_1          28 KB  conda-forge\n    ------------------------------------------------------------\n                                           Total:         713 KB\n\nThe following NEW packages will be INSTALLED:\n\n  altair             conda-forge/noarch::altair-4.1.0-py_1\n  branca             conda-forge/noarch::branca-0.4.2-pyhd8ed1ab_0\n  folium             conda-forge/noarch::folium-0.5.0-py_0\n  vincent            conda-forge/noarch::vincent-0.4.4-py_1\n\n\n\nDownloading and Extracting Packages\nvincent-0.4.4        | 28 KB     | ##################################### | 100% \nbranca-0.4.2         | 26 KB     | ##################################### | 100% \naltair-4.1.0         | 614 KB    | ##################################### | 100% \nfolium-0.5.0         | 45 KB     | ##################################### | 100% \nPreparing transaction: done\nVerifying transaction: done\nExecuting transaction: done\nLibraries imported.\n",
                    "name": "stdout"
                }
            ]
        },
        {
            "metadata": {},
            "cell_type": "code",
            "source": "",
            "execution_count": null,
            "outputs": []
        }
    ],
    "metadata": {
        "kernelspec": {
            "name": "python3",
            "display_name": "Python 3.7",
            "language": "python"
        },
        "language_info": {
            "name": "python",
            "version": "3.7.10",
            "mimetype": "text/x-python",
            "codemirror_mode": {
                "name": "ipython",
                "version": 3
            },
            "pygments_lexer": "ipython3",
            "nbconvert_exporter": "python",
            "file_extension": ".py"
        }
    },
    "nbformat": 4,
    "nbformat_minor": 1
}